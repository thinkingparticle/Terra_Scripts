{
 "cells": [
  {
   "cell_type": "code",
   "execution_count": 84,
   "metadata": {},
   "outputs": [],
   "source": [
    "import requests as rq \n",
    "from decimal import Decimal\n",
    "from typing import Dict,List\n",
    "from dataclasses  import dataclass\n",
    "import json"
   ]
  },
  {
   "cell_type": "markdown",
   "metadata": {},
   "source": [
    "## Crawl Data"
   ]
  },
  {
   "cell_type": "code",
   "execution_count": 85,
   "metadata": {},
   "outputs": [],
   "source": [
    "gas_prices_json = rq.get('https://fcd.terra.dev/v1/txs/gas_prices').json()"
   ]
  },
  {
   "cell_type": "code",
   "execution_count": 86,
   "metadata": {},
   "outputs": [],
   "source": [
    "swap_rates_uusd_json = rq.get(\"https://fcd.terra.dev/v1/market/swaprate/uusd\").json()"
   ]
  },
  {
   "cell_type": "code",
   "execution_count": 87,
   "metadata": {},
   "outputs": [],
   "source": [
    "mainnet_token_contract_to_info_dict = rq.get(\"https://assets.terra.money/cw20/tokens.json\").json()['mainnet']"
   ]
  },
  {
   "cell_type": "code",
   "execution_count": 88,
   "metadata": {},
   "outputs": [
    {
     "data": {
      "text/plain": [
       "37"
      ]
     },
     "execution_count": 88,
     "metadata": {},
     "output_type": "execute_result"
    }
   ],
   "source": [
    "len(mainnet_token_contract_to_info_dict)"
   ]
  },
  {
   "cell_type": "code",
   "execution_count": 89,
   "metadata": {},
   "outputs": [],
   "source": [
    "dashboard_json = rq.get(\"https://fcd.terra.dev/v1/dashboard\").json()\n",
    "tax_rate = Decimal(dashboard_json['taxRate'])\n",
    "native_tokens = [item['denom'] for item in dashboard_json['taxCaps']]\n",
    "token_to_tax_cap : Dict[str,Decimal] = {item['denom']:Decimal(item['taxCap']) for item in dashboard_json['taxCaps']}"
   ]
  },
  {
   "cell_type": "code",
   "execution_count": 90,
   "metadata": {},
   "outputs": [],
   "source": [
    "all_tokens_list = rq.get(\"https://api.terraswap.io/tokens\").json()\n",
    "len([item for item in all_tokens_list if item['symbol']==\"MIR\"])\n",
    "token_contract_to_decimals = {item['contract_addr']:item['decimals'] for item in all_tokens_list}"
   ]
  },
  {
   "cell_type": "code",
   "execution_count": 91,
   "metadata": {},
   "outputs": [
    {
     "data": {
      "text/plain": [
       "128"
      ]
     },
     "execution_count": 91,
     "metadata": {},
     "output_type": "execute_result"
    }
   ],
   "source": [
    "len(all_tokens_list)"
   ]
  },
  {
   "cell_type": "code",
   "execution_count": 92,
   "metadata": {
    "scrolled": true
   },
   "outputs": [
    {
     "data": {
      "text/plain": [
       "37"
      ]
     },
     "execution_count": 92,
     "metadata": {},
     "output_type": "execute_result"
    }
   ],
   "source": [
    "len(mainnet_token_contract_to_info_dict)"
   ]
  },
  {
   "cell_type": "markdown",
   "metadata": {},
   "source": [
    "or query token info with graphql on https://mantle.terra.dev/\n",
    "```\n",
    "{\n",
    "  terra1kc87mu460fwkqte29rquh4hc20m54fxwtsx7gp: WasmContractsContractAddressStore(ContractAddress: \"terra1kc87mu460fwkqte29rquh4hc20m54fxwtsx7gp\", QueryMsg: \"{\\\"token_info\\\":{}}\"){\n",
    "    Height\n",
    "    Result\n",
    "  }\n",
    "}\n",
    "```\n",
    "or \n",
    "```\n",
    "curl 'https://mantle.terra.dev/' -H 'Accept-Encoding: gzip, deflate, br' -H 'Content-Type: application/json' -H 'Accept: application/json' -H 'Connection: keep-alive' -H 'DNT: 1' -H 'Origin: https://mantle.terra.dev' --data-binary '{\"query\":\"{\\n  terra1kc87mu460fwkqte29rquh4hc20m54fxwtsx7gp: WasmContractsContractAddressStore(ContractAddress: \\\"terra1kc87mu460fwkqte29rquh4hc20m54fxwtsx7gp\\\", QueryMsg: \\\"{\\\\\\\"token_info\\\\\\\":{}}\\\"){\\n    Height\\n    Result\\n  }\\n}\"}' --compressed\n",
    "```"
   ]
  },
  {
   "cell_type": "code",
   "execution_count": 93,
   "metadata": {},
   "outputs": [
    {
     "data": {
      "text/plain": [
       "65"
      ]
     },
     "execution_count": 93,
     "metadata": {},
     "output_type": "execute_result"
    }
   ],
   "source": [
    "pairs_list_from_terraswap = rq.get(\"https://api.terraswap.io/pairs\").json()['pairs']\n",
    "len(pairs_list_from_terraswap)"
   ]
  },
  {
   "cell_type": "code",
   "execution_count": 94,
   "metadata": {
    "scrolled": true
   },
   "outputs": [
    {
     "data": {
      "text/plain": [
       "{'asset_infos': [{'token': {'contract_addr': 'terra1q59h4hyxvfpu2hp3v39r8rpl4wykqe7axrc9rr'}},\n",
       "  {'native_token': {'denom': 'uusd'}}],\n",
       " 'liquidity_token': 'terra165k229vdtpng40rhdfn3tqtqphwxeyjx5wrwxw',\n",
       " 'contract_addr': 'terra1xlgl3xvkha2y6mssy9s4qe70sq295825sdmt2q'}"
      ]
     },
     "execution_count": 94,
     "metadata": {},
     "output_type": "execute_result"
    }
   ],
   "source": [
    "pairs_list_from_terraswap[0]"
   ]
  },
  {
   "cell_type": "code",
   "execution_count": 95,
   "metadata": {},
   "outputs": [
    {
     "data": {
      "text/plain": [
       "33"
      ]
     },
     "execution_count": 95,
     "metadata": {},
     "output_type": "execute_result"
    }
   ],
   "source": [
    "pairs_contract_to_info_from_terra = rq.get(\"https://assets.terra.money/cw20/pairs.json\").json()['mainnet']\n",
    "len(pairs_contract_to_info_from_terra.keys())"
   ]
  },
  {
   "cell_type": "code",
   "execution_count": 12,
   "metadata": {},
   "outputs": [
    {
     "data": {
      "text/plain": [
       "64"
      ]
     },
     "execution_count": 12,
     "metadata": {},
     "output_type": "execute_result"
    }
   ],
   "source": [
    "agg_pair_list = [item[\"contract_addr\"] for item in pairs_list_from_terraswap]+ list(pairs_contract_to_info_from_terra.keys())\n",
    "len(list(set(agg_pair_list)))"
   ]
  },
  {
   "cell_type": "code",
   "execution_count": 13,
   "metadata": {},
   "outputs": [],
   "source": [
    "oracle_params_json = rq.get(\"https://fcd.terra.dev/oracle/parameters\").json()\n",
    "market_params_json = rq.get(\"https://fcd.terra.dev/market/parameters\").json()"
   ]
  },
  {
   "cell_type": "code",
   "execution_count": 14,
   "metadata": {},
   "outputs": [
    {
     "data": {
      "text/plain": [
       "{'height': '3819297',\n",
       " 'result': {'base_pool': '32500000000000.000000000000000000',\n",
       "  'pool_recovery_period': '49',\n",
       "  'min_spread': '0.005000000000000000'}}"
      ]
     },
     "execution_count": 14,
     "metadata": {},
     "output_type": "execute_result"
    }
   ],
   "source": [
    "market_params_json"
   ]
  },
  {
   "cell_type": "code",
   "execution_count": 15,
   "metadata": {},
   "outputs": [],
   "source": [
    "all_terraswap_contracts = [item['contract_addr'] for item in pairs_list_from_terraswap] + list(pairs_contract_to_info_from_terra.keys())\n",
    "all_terraswap_contracts = list(set(all_terraswap_contracts))"
   ]
  },
  {
   "cell_type": "code",
   "execution_count": 16,
   "metadata": {},
   "outputs": [
    {
     "data": {
      "text/plain": [
       "64"
      ]
     },
     "execution_count": 16,
     "metadata": {},
     "output_type": "execute_result"
    }
   ],
   "source": [
    "len(all_terraswap_contracts)"
   ]
  },
  {
   "cell_type": "code",
   "execution_count": 21,
   "metadata": {},
   "outputs": [],
   "source": [
    "# this sends a request per contract pool and its slow\n",
    "# def query_pool_info(pool_contract_address:str):\n",
    "#     # https://fcd.terra.dev/wasm/contracts/terra1sndgzq62wp23mv20ndr4sxg6k8xcsudsy87uph/store?query_msg=%7B%22pool%22%3A%7B%7D%7D\n",
    "#     query_str = '{\"pool\":{}}'\n",
    "#     query_url = f\"https://fcd.terra.dev/wasm/contracts/{pool_contract_address}/store?query_msg={query_str}\"\n",
    "#     # print(\"query_url\",query_url)\n",
    "#     return rq.get(query_url).json()\n",
    "# pair_contract_to_pool_info ={}\n",
    "# for pool_contract in all_terraswap_contracts:\n",
    "#     pair_contract_to_pool_info[pool_contract] = query_pool_info(pool_contract)"
   ]
  },
  {
   "cell_type": "markdown",
   "metadata": {},
   "source": [
    "Better to query all pools at once: "
   ]
  },
  {
   "cell_type": "code",
   "execution_count": 96,
   "metadata": {},
   "outputs": [],
   "source": [
    "# curl 'https://mantle.terra.dev/' -H 'Accept-Encoding: gzip, deflate, br' -H 'Content-Type: application/json' -H 'Accept: application/json' -H 'Connection: keep-alive' -H 'DNT: 1' -H 'Origin: https://mantle.terra.dev' --data-binary '{\"query\":\"{\\n  terra14hklnm2ssaexjwkcfhyyyzvpmhpwx6x6lpy39s: WasmContractsContractAddressStore(ContractAddress: \\\"terra14hklnm2ssaexjwkcfhyyyzvpmhpwx6x6lpy39s\\\", QueryMsg: \\\"{\\\\\\\"pool\\\\\\\":{}}\\\"){\\n    Height\\n    Result\\n  }\\n  terra1ldpgn35p9m2ksumh8dksp3edvv4nz9tdj2pwv2: WasmContractsContractAddressStore(ContractAddress: \\\"terra1ldpgn35p9m2ksumh8dksp3edvv4nz9tdj2pwv2\\\", QueryMsg: \\\"{\\\\\\\"pool\\\\\\\":{}}\\\"){\\n    Height\\n    Result\\n  }\\n}\\n\"}' --compressed"
   ]
  },
  {
   "cell_type": "code",
   "execution_count": 23,
   "metadata": {},
   "outputs": [],
   "source": [
    "# https://mantle.terra.dev/\n",
    "# \"\"\"{\n",
    "#   terra14hklnm2ssaexjwkcfhyyyzvpmhpwx6x6lpy39s: WasmContractsContractAddressStore(ContractAddress: \"terra14hklnm2ssaexjwkcfhyyyzvpmhpwx6x6lpy39s\", QueryMsg: \"{\\\"pool\\\":{}}\"){\n",
    "#     Height\n",
    "#     Result\n",
    "#   }\n",
    "#   terra1ldpgn35p9m2ksumh8dksp3edvv4nz9tdj2pwv2: WasmContractsContractAddressStore(ContractAddress: \"terra1ldpgn35p9m2ksumh8dksp3edvv4nz9tdj2pwv2\", QueryMsg: \"{\\\"pool\\\":{}}\"){\n",
    "#     Height\n",
    "#     Result\n",
    "#   }\n",
    "# }\n",
    "# \"\"\""
   ]
  },
  {
   "cell_type": "code",
   "execution_count": 97,
   "metadata": {},
   "outputs": [],
   "source": [
    "template = \"\"\"\n",
    "  contract_code: WasmContractsContractAddressStore(ContractAddress: \"contract_code\", QueryMsg: \"{\\\\\"pool\\\\\":{}}\"){\n",
    "    Height\n",
    "    Result\n",
    "  }\"\"\"\n",
    "query_string = \"{\"\n",
    "for c_code in all_terraswap_contracts:\n",
    "    query_string+= template.replace(\"contract_code\",c_code)+\"\\n\"\n",
    "query_string+='}'\n",
    "req_all_pools_info = rq.post('https://mantle.terra.dev/',json={\"query\":query_string})"
   ]
  },
  {
   "cell_type": "code",
   "execution_count": null,
   "metadata": {},
   "outputs": [],
   "source": []
  },
  {
   "cell_type": "code",
   "execution_count": 98,
   "metadata": {},
   "outputs": [
    {
     "data": {
      "text/plain": [
       "dict_keys(['data'])"
      ]
     },
     "execution_count": 98,
     "metadata": {},
     "output_type": "execute_result"
    }
   ],
   "source": [
    "req_all_pools_info.json().keys()"
   ]
  },
  {
   "cell_type": "code",
   "execution_count": 99,
   "metadata": {},
   "outputs": [
    {
     "data": {
      "text/plain": [
       "64"
      ]
     },
     "execution_count": 99,
     "metadata": {},
     "output_type": "execute_result"
    }
   ],
   "source": [
    "len(req_all_pools_info.json()['data'].keys())"
   ]
  },
  {
   "cell_type": "code",
   "execution_count": null,
   "metadata": {},
   "outputs": [],
   "source": []
  },
  {
   "cell_type": "markdown",
   "metadata": {},
   "source": [
    "### TerraSwap object models"
   ]
  },
  {
   "cell_type": "code",
   "execution_count": 101,
   "metadata": {},
   "outputs": [],
   "source": [
    "@dataclass\n",
    "class TerraswapAssetDetail:\n",
    "    token_name_or_contract_address:str\n",
    "    is_native_token:bool\n",
    "    amount:Decimal\n",
    "    \n",
    "    @staticmethod\n",
    "    def from_json(input_json:dict)->'TerraswapAssetDetail':\n",
    "        # {'amount': '3078494360163', 'info': {'native_token': {'denom': 'uusd'}}}\n",
    "        # {'amount': '8189896328','info': {'token': {'contract_addr': 'terra137drsu8gce5thf6jr5mxlfghw36rpljt3zj73v'}}}\n",
    "        amount = Decimal(input_json.get(\"amount\"))\n",
    "        is_native = False\n",
    "        if input_json.get('info').get('native_token') is not None:\n",
    "            is_native = True\n",
    "            token_name_or_contract_address = input_json.get('info').get('native_token').get('denom')\n",
    "        else:\n",
    "            token_name_or_contract_address = input_json.get('info').get('token').get('contract_addr')\n",
    "        return TerraswapAssetDetail(token_name_or_contract_address=token_name_or_contract_address,\n",
    "                                   is_native_token=is_native,\n",
    "                                   amount=amount)\n",
    "    \n",
    "@dataclass\n",
    "class TerraswapPoolInfo:\n",
    "    asset_detail_1: TerraswapAssetDetail\n",
    "    asset_detail_2: TerraswapAssetDetail\n",
    "    total_share: Decimal\n",
    "    @staticmethod\n",
    "    def from_json(input_json:dict)->'TerraswapAssetDetail':\n",
    "        # {'Height': '3770968',\n",
    "        #  'Result': {'assets': [{'amount': '3078494360163',\n",
    "        #     'info': {'native_token': {'denom': 'uusd'}}},\n",
    "        #    {'amount': '8189896328',\n",
    "        #     'info': {'token': {'contract_addr': 'terra137drsu8gce5thf6jr5mxlfghw36rpljt3zj73v'}}}],\n",
    "        #   'total_share': '155236168311'}}\n",
    "        asset_detail_1 = TerraswapAssetDetail.from_json(input_json['Result']['assets'][0])\n",
    "        asset_detail_2 = TerraswapAssetDetail.from_json(input_json['Result']['assets'][1])\n",
    "        total_share = Decimal(input_json['Result']['total_share'])\n",
    "        return TerraswapPoolInfo(asset_detail_1=asset_detail_1,\n",
    "                                 asset_detail_2=asset_detail_2,\n",
    "                                 total_share=total_share)"
   ]
  },
  {
   "cell_type": "code",
   "execution_count": 102,
   "metadata": {},
   "outputs": [],
   "source": [
    "pair_contract_to_pool_info_raw = req_all_pools_info.json()['data']"
   ]
  },
  {
   "cell_type": "code",
   "execution_count": 103,
   "metadata": {
    "scrolled": true
   },
   "outputs": [
    {
     "data": {
      "text/plain": [
       "{'Height': '3904784',\n",
       " 'Result': '{\"assets\":[{\"amount\":\"3761580459638\",\"info\":{\"native_token\":{\"denom\":\"uusd\"}}},{\"amount\":\"9941707895\",\"info\":{\"token\":{\"contract_addr\":\"terra137drsu8gce5thf6jr5mxlfghw36rpljt3zj73v\"}}}],\"total_share\":\"188962888187\"}'}"
      ]
     },
     "execution_count": 103,
     "metadata": {},
     "output_type": "execute_result"
    }
   ],
   "source": [
    "pair_contract_to_pool_info_raw['terra108ukjf6ekezuc52t9keernlqxtmzpj4wf7rx0h']"
   ]
  },
  {
   "cell_type": "code",
   "execution_count": 104,
   "metadata": {},
   "outputs": [],
   "source": [
    "# conver text to json\n",
    "for c_code,item_dict in pair_contract_to_pool_info_raw.items():\n",
    "    if isinstance(item_dict.get(\"Result\"),str):\n",
    "        item_dict['Result'] = json.loads(item_dict['Result'])"
   ]
  },
  {
   "cell_type": "code",
   "execution_count": 105,
   "metadata": {},
   "outputs": [],
   "source": [
    "pair_contract_to_pool_info : Dict[str,TerraswapPoolInfo] = {c:TerraswapPoolInfo.from_json(item) for c,item in pair_contract_to_pool_info_raw.items()}"
   ]
  },
  {
   "cell_type": "code",
   "execution_count": 106,
   "metadata": {},
   "outputs": [
    {
     "data": {
      "text/plain": [
       "TerraswapPoolInfo(asset_detail_1=TerraswapAssetDetail(token_name_or_contract_address='uusd', is_native_token=True, amount=Decimal('3761580459638')), asset_detail_2=TerraswapAssetDetail(token_name_or_contract_address='terra137drsu8gce5thf6jr5mxlfghw36rpljt3zj73v', is_native_token=False, amount=Decimal('9941707895')), total_share=Decimal('188962888187'))"
      ]
     },
     "execution_count": 106,
     "metadata": {},
     "output_type": "execute_result"
    }
   ],
   "source": [
    "pair_contract_to_pool_info['terra108ukjf6ekezuc52t9keernlqxtmzpj4wf7rx0h']"
   ]
  },
  {
   "cell_type": "code",
   "execution_count": 107,
   "metadata": {},
   "outputs": [
    {
     "data": {
      "text/plain": [
       "{'Height': '3904784',\n",
       " 'Result': {'assets': [{'amount': '3761580459638',\n",
       "    'info': {'native_token': {'denom': 'uusd'}}},\n",
       "   {'amount': '9941707895',\n",
       "    'info': {'token': {'contract_addr': 'terra137drsu8gce5thf6jr5mxlfghw36rpljt3zj73v'}}}],\n",
       "  'total_share': '188962888187'}}"
      ]
     },
     "execution_count": 107,
     "metadata": {},
     "output_type": "execute_result"
    }
   ],
   "source": [
    "pair_contract_to_pool_info_raw['terra108ukjf6ekezuc52t9keernlqxtmzpj4wf7rx0h']"
   ]
  },
  {
   "cell_type": "code",
   "execution_count": 108,
   "metadata": {},
   "outputs": [],
   "source": [
    "pair_contract_to_list_of_tokens :Dict[str,List[str]] = {}\n",
    "for contract,pool_info in pair_contract_to_pool_info.items():\n",
    "    first_coin = pool_info.asset_detail_1.token_name_or_contract_address\n",
    "    second_coin = pool_info.asset_detail_2.token_name_or_contract_address\n",
    "\n",
    "    pair_contract_to_list_of_tokens[contract] = [first_coin,second_coin]"
   ]
  },
  {
   "cell_type": "code",
   "execution_count": 109,
   "metadata": {},
   "outputs": [
    {
     "data": {
      "text/plain": [
       "['uusd', 'terra137drsu8gce5thf6jr5mxlfghw36rpljt3zj73v']"
      ]
     },
     "execution_count": 109,
     "metadata": {},
     "output_type": "execute_result"
    }
   ],
   "source": [
    "pair_contract_to_list_of_tokens[list(pair_contract_to_pool_info.keys())[0]]"
   ]
  },
  {
   "cell_type": "code",
   "execution_count": 110,
   "metadata": {},
   "outputs": [
    {
     "data": {
      "text/plain": [
       "[('terra1tndcaqxkpc5ce9qee5ggqf430mr2z3pefe5wj6', ['uusd', 'uluna'])]"
      ]
     },
     "execution_count": 110,
     "metadata": {},
     "output_type": "execute_result"
    }
   ],
   "source": [
    "[(c,l) for c,l in pair_contract_to_list_of_tokens.items() if 'uluna' in l and 'uusd' in l]"
   ]
  },
  {
   "cell_type": "markdown",
   "metadata": {},
   "source": [
    "# Compute Swaps Using Smart Contract Pools"
   ]
  },
  {
   "cell_type": "code",
   "execution_count": 117,
   "metadata": {},
   "outputs": [],
   "source": [
    "# computations based on the contract terraswap pair contract: \n",
    "# https://github.com/terraswap/terraswap/blob/fb33e61672b8cdb036374d96a6e42cfee3c89381/contracts/terraswap_pair/src/contract.rs#L525\n",
    "def calculate_swap_output(\n",
    "    input_amount:Decimal,\n",
    "    input_native_token_name:str=None,\n",
    "    input_token_contract:str=None,\n",
    "    output_native_token_name:str=None,\n",
    "    output_token_contract:str=None,\n",
    "    commisson_rate:Decimal = Decimal(\"0.003\")\n",
    "    ):\n",
    "    # computations based on try_swap function of terraswap pair contract\n",
    "    input_coin = input_native_token_name or input_token_contract\n",
    "    output_coin = output_native_token_name or output_token_contract\n",
    "    assert input_coin!=output_coin\n",
    "    print(\"input & output coin \",input_coin,output_coin)\n",
    "    supporting_pair_contracts = [c for c,token_list in pair_contract_to_list_of_tokens.items() if  input_coin in token_list and output_coin in token_list \n",
    "                                   and pair_contract_to_pool_info[c].total_share not in [0,'0',None]\n",
    "                                ]\n",
    "    print(\"found contracts\", supporting_pair_contracts)\n",
    "    if len(supporting_pair_contracts)==1:\n",
    "        pair_contract = supporting_pair_contracts[0]\n",
    "        pool_info = pair_contract_to_pool_info[pair_contract]\n",
    "        print(\"pool_info\",pool_info)\n",
    "        assert input_coin in [pool_info.asset_detail_1.token_name_or_contract_address,pool_info.asset_detail_2.token_name_or_contract_address]\n",
    "        assert output_coin in [pool_info.asset_detail_1.token_name_or_contract_address,pool_info.asset_detail_2.token_name_or_contract_address]\n",
    "        \n",
    "        input_asset_detail:TerraswapAssetDetail = pool_info.asset_detail_1 if input_coin == pool_info.asset_detail_1.token_name_or_contract_address else pool_info.asset_detail_2\n",
    "        output_asset_detail:TerraswapAssetDetail = pool_info.asset_detail_1 if output_coin == pool_info.asset_detail_1.token_name_or_contract_address else pool_info.asset_detail_2\n",
    "        \n",
    "        input_depth = input_asset_detail.amount\n",
    "        output_depth = output_asset_detail.amount\n",
    "        \n",
    "        \n",
    "        input_token_decimals = 6 if input_asset_detail.is_native_token is True else token_contract_to_decimals[input_asset_detail.token_name_or_contract_address]\n",
    "        output_token_decimals = 6 if output_asset_detail.is_native_token is True else token_contract_to_decimals[output_asset_detail.token_name_or_contract_address]\n",
    "        \n",
    "        print(\"input_depth,output_depth\",input_depth,output_depth)\n",
    "        input_amount_considering_decimals = input_amount*Decimal(f'1e{input_token_decimals}')\n",
    "        \n",
    "        # // offer => ask\n",
    "        # // ask_amount = (ask_pool - cp / (offer_pool + offer_amount)) * (1 - commission_rate)\n",
    "        # let cp = Uint128(offer_pool.u128() * ask_pool.u128());        \n",
    "        # let return_amount = (ask_pool - cp.multiply_ratio(1u128, offer_pool + offer_amount))?;\n",
    "        cp = input_depth*output_depth\n",
    "        output_amount_before_commission = output_depth - cp/(input_depth+input_amount_considering_decimals)\n",
    "        print(\"output_amount_before_commission\",output_amount_before_commission)\n",
    "        \n",
    "        # let commission_amount: Uint128 = return_amount * Decimal::from_str(&COMMISSION_RATE).unwrap();\n",
    "        commission = commisson_rate*output_amount_before_commission\n",
    "        print('commission',commission,output_coin)\n",
    "        # // commission will be absorbed to pool\n",
    "        # let return_amount: Uint128 = (return_amount - commission_amount).unwrap();\n",
    "        output_amount_after_commission = output_amount_before_commission - commission\n",
    "        \n",
    "        # reduce tax. computation based on compute_tax in terraswap pair contract\n",
    "        tax_amount = Decimal('0')\n",
    "        # non-native tokens and luna do not have a tax\n",
    "        if output_asset_detail.is_native_token is False or (output_asset_detail.is_native_token is True and output_coin =='uluna'):\n",
    "            tax_amount = Decimal('0')\n",
    "        else:\n",
    "            # let tax_rate: Decimal = (terra_querier.query_tax_rate()?).rate;\n",
    "            # let tax_cap: Uint128 = (terra_querier.query_tax_cap(denom.to_string())?).cap;\n",
    "            # Ok(std::cmp::min(\n",
    "            #     (amount\n",
    "            #         - amount.multiply_ratio(\n",
    "            #             DECIMAL_FRACTION,\n",
    "            #             DECIMAL_FRACTION * tax_rate + DECIMAL_FRACTION,\n",
    "            #         ))?,\n",
    "            #     tax_cap,\n",
    "            # ))\n",
    "            DECIMAL_FRACTION = Decimal('1_000_000_000_000_000_000')\n",
    "            output_tax_cap = token_to_tax_cap[output_coin] \n",
    "            tax_amount_before_cap = output_amount_after_commission - output_amount_after_commission*(DECIMAL_FRACTION/(DECIMAL_FRACTION*tax_rate+DECIMAL_FRACTION))\n",
    "            tax_amount = min(tax_amount_before_cap,output_tax_cap)\n",
    "        print(\"tax_amount\",tax_amount)\n",
    "        print(\"output_before_tax\",output_amount_after_commission)\n",
    "    \n",
    "        output_amount_after_commission = output_amount_after_commission - tax_amount\n",
    "        \n",
    "        return output_amount_after_commission/Decimal(f'1e{output_token_decimals}')\n",
    "        \n",
    "        \n",
    "    else:\n",
    "        raise Exception(\"found two or more\")\n",
    "    # Find the pair contract\n",
    "    pass"
   ]
  },
  {
   "cell_type": "code",
   "execution_count": 118,
   "metadata": {},
   "outputs": [
    {
     "name": "stdout",
     "output_type": "stream",
     "text": [
      "input & output coin  uluna uusd\n",
      "found contracts ['terra1tndcaqxkpc5ce9qee5ggqf430mr2z3pefe5wj6']\n",
      "pool_info TerraswapPoolInfo(asset_detail_1=TerraswapAssetDetail(token_name_or_contract_address='uusd', is_native_token=True, amount=Decimal('7668960962068')), asset_detail_2=TerraswapAssetDetail(token_name_or_contract_address='uluna', is_native_token=True, amount=Decimal('892297432032')), total_share=Decimal('1591761811475'))\n",
      "input_depth,output_depth 892297432032 7668960962068\n",
      "output_amount_before_commission 8594614.410118085177669\n",
      "commission 25783.843230354255533007 uusd\n",
      "tax_amount 40823.169481491424465771239\n",
      "output_before_tax 8568830.566887730922135993\n"
     ]
    },
    {
     "data": {
      "text/plain": [
       "Decimal('8.528007397406239497670221761')"
      ]
     },
     "execution_count": 118,
     "metadata": {},
     "output_type": "execute_result"
    }
   ],
   "source": [
    "calculate_swap_output(1,input_native_token_name='uluna',output_native_token_name='uusd')"
   ]
  },
  {
   "cell_type": "code",
   "execution_count": 119,
   "metadata": {},
   "outputs": [
    {
     "name": "stdout",
     "output_type": "stream",
     "text": [
      "input & output coin  uusd uluna\n",
      "found contracts ['terra1tndcaqxkpc5ce9qee5ggqf430mr2z3pefe5wj6']\n",
      "pool_info TerraswapPoolInfo(asset_detail_1=TerraswapAssetDetail(token_name_or_contract_address='uusd', is_native_token=True, amount=Decimal('7668960962068')), asset_detail_2=TerraswapAssetDetail(token_name_or_contract_address='uluna', is_native_token=True, amount=Decimal('892297432032')), total_share=Decimal('1591761811475'))\n",
      "input_depth,output_depth 7668960962068 892297432032\n",
      "output_amount_before_commission 11635028.5445036755803759\n",
      "commission 34905.0856335110267411277 uluna\n",
      "tax_amount 0\n",
      "output_before_tax 11600123.4588701645536347723\n"
     ]
    },
    {
     "data": {
      "text/plain": [
       "Decimal('11.6001234588701645536347723')"
      ]
     },
     "execution_count": 119,
     "metadata": {},
     "output_type": "execute_result"
    }
   ],
   "source": [
    "calculate_swap_output(100,input_native_token_name='uusd',output_native_token_name='uluna')"
   ]
  },
  {
   "cell_type": "code",
   "execution_count": null,
   "metadata": {},
   "outputs": [],
   "source": []
  }
 ],
 "metadata": {
  "kernelspec": {
   "display_name": "Python [conda env:anaconda3-p37]",
   "language": "python",
   "name": "conda-env-anaconda3-p37-py"
  },
  "language_info": {
   "codemirror_mode": {
    "name": "ipython",
    "version": 3
   },
   "file_extension": ".py",
   "mimetype": "text/x-python",
   "name": "python",
   "nbconvert_exporter": "python",
   "pygments_lexer": "ipython3",
   "version": "3.7.9"
  }
 },
 "nbformat": 4,
 "nbformat_minor": 4
}
